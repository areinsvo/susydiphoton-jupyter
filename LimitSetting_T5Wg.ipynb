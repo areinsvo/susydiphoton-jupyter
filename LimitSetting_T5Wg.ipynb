{
 "cells": [
  {
   "cell_type": "markdown",
   "metadata": {},
   "source": [
    "# LimitSetting\n",
    "\n",
    "### Adaptation of https://github.com/asantra/DiPhotonClassicCodeRepository/tree/master/LimitSetting in a Jupyter notebook\n",
    "\n",
    "#### thomas.mccauley@cern.ch"
   ]
  },
  {
   "cell_type": "code",
   "execution_count": 1,
   "metadata": {
    "collapsed": false
   },
   "outputs": [
    {
     "data": {
      "application/javascript": [
       "\n",
       "require(['notebook'],\n",
       "  function() {\n",
       "    IPython.CodeCell.config_defaults.highlight_modes['magic_text/x-c++src'] = {'reg':[/^%%cpp/]};\n",
       "    console.log(\"JupyROOT - %%cpp magic configured\");\n",
       "  }\n",
       ");\n"
      ]
     },
     "metadata": {},
     "output_type": "display_data"
    },
    {
     "name": "stdout",
     "output_type": "stream",
     "text": [
      "Welcome to JupyROOT 6.07/07\n"
     ]
    }
   ],
   "source": [
    "import ROOT\n",
    "import math"
   ]
  },
  {
   "cell_type": "markdown",
   "metadata": {},
   "source": [
    "Let's read in the root file and get the histograms and draw a few:"
   ]
  },
  {
   "cell_type": "code",
   "execution_count": 2,
   "metadata": {
    "collapsed": false
   },
   "outputs": [
    {
     "name": "stdout",
     "output_type": "stream",
     "text": [
      "TFile**\t\t./hist_T5Wg.root\t\n",
      " TFile*\t\t./hist_T5Wg.root\t\n",
      "  KEY: TH1F\th_All_Signal_MET;1\tAll Signal MET\n",
      "  KEY: TH1F\th_DoublePhoton_Signal_MET;1\tDi-photon signal MET\n",
      "  KEY: TH1F\th_DoublePhoton_Signal_MET_NoTriggerCut;1\tDi-photon signal MET\n",
      "  KEY: TH1F\th_DoublePhoton_Signal_MET_AsymPtCut;1\tDi-photon signal MET\n",
      "  KEY: TH1F\th_DoublePhoton_Signal_MET_InvMassCut;1\tDi-photon signal MET\n",
      "  KEY: TH1F\th_DoublePhoton_Signal_MET_InvMassAndAsymPtCut;1\tDi-photon signal MET\n",
      "  KEY: TH1F\th_DoublePhoton_Signal_MET_HighInvMassAndAsymPtCut;1\tDi-photon signal MET\n",
      "  KEY: TH1F\th_DoublePhotonFromThree_Signal_MET;1\tDi-photon signal MET\n",
      "  KEY: TH1F\th_DoublePhoton_Signal_METExpected;1\tDouble Photon MET, MET>100\n",
      "  KEY: TH1F\th_DoublePhoton_Signal_METJESUpExpected;1\tDouble Photon MET, MET>100\n",
      "  KEY: TH1F\th_DoublePhoton_Signal_METJESDownExpected;1\tDouble Photon MET, MET>100\n",
      "  KEY: TH1F\th_DoublePhoton_Signal_METExpectedUnweighted;1\tDouble Photon MET, MET>100\n",
      "  KEY: TH1F\th_DoublePhoton_Signal_METJESUpExpectedUnweighted;1\tDouble Photon MET, MET>100\n",
      "  KEY: TH1F\th_DoublePhoton_Signal_METJESDownExpectedUnweighted;1\tDouble Photon MET, MET>100\n",
      "  KEY: TH2D\th_MET100to150_GridAll;1\tEvents for MET>100 and MET < 110 GeV\n",
      "  KEY: TH2D\th_MET150to250_GridAll;1\tEvents for MET>110 and MET < 120 GeV\n",
      "  KEY: TH2D\th_MET250to350_GridAll;1\tEvents for MET>120 and MET < 140 GeV\n",
      "  KEY: TH2D\th_MET140to6000_GridAll;1\tEvents for MET>140 and MET < 6000 GeV\n",
      "  KEY: TH2D\th_MET100to150_Grid;1\tEvents for MET>100 and MET < 110 GeV\n",
      "  KEY: TH2D\th_MET150to250_Grid;1\tEvents for MET>110 and MET < 120 GeV\n",
      "  KEY: TH2D\th_MET250to350_Grid;1\tEvents for MET>120 and MET < 140 GeV\n",
      "  KEY: TH2D\th_MET140to6000_Grid;1\tEvents for MET>140 and MET < 6000 GeV\n",
      "  KEY: TH2D\th_MET100to150_GridUnweighted;1\tEvents for MET>100 and MET < 110 GeV\n",
      "  KEY: TH2D\th_MET150to250_GridUnweighted;1\tEvents for MET>110 and MET < 120 GeV\n",
      "  KEY: TH2D\th_MET250to350_GridUnweighted;1\tEvents for MET>120 and MET < 140 GeV\n",
      "  KEY: TH2D\th_MET140to6000_GridUnweighted;1\tEvents for MET>140 and MET < 6000 GeV\n",
      "  KEY: TH2D\th_MET100to150_Grid_JESUp;1\tEvents for MET>100 and MET < 110 GeV\n",
      "  KEY: TH2D\th_MET150to250_Grid_JESUp;1\tEvents for MET>110 and MET < 120 GeV\n",
      "  KEY: TH2D\th_MET250to350_Grid_JESUp;1\tEvents for MET>120 and MET < 140 GeV\n",
      "  KEY: TH2D\th_MET140to6000_Grid_JESUp;1\tEvents for MET>140 and MET < 6000 GeV\n",
      "  KEY: TH2D\th_MET100to150_Grid_JESDown;1\tEvents for MET>100 and MET < 110 GeV\n",
      "  KEY: TH2D\th_MET150to250_Grid_JESDown;1\tEvents for MET>110 and MET < 120 GeV\n",
      "  KEY: TH2D\th_MET250to350_Grid_JESDown;1\tEvents for MET>120 and MET < 140 GeV\n",
      "  KEY: TH2D\th_MET140to6000_Grid_JESDown;1\tEvents for MET>140 and MET < 6000 GeV\n",
      "  KEY: TH2D\th_MET100to150_GridUnweighted_JESUp;1\tEvents for MET>100 and MET < 110 GeV\n",
      "  KEY: TH2D\th_MET150to250_GridUnweighted_JESUp;1\tEvents for MET>110 and MET < 120 GeV\n",
      "  KEY: TH2D\th_MET250to350_GridUnweighted_JESUp;1\tEvents for MET>120 and MET < 140 GeV\n",
      "  KEY: TH2D\th_MET140to6000_GridUnweighted_JESUp;1\tEvents for MET>140 and MET < 6000 GeV\n",
      "  KEY: TH2D\th_MET100to150_GridUnweighted_JESDown;1\tEvents for MET>100 and MET < 110 GeV\n",
      "  KEY: TH2D\th_MET150to250_GridUnweighted_JESDown;1\tEvents for MET>110 and MET < 120 GeV\n",
      "  KEY: TH2D\th_MET250to350_GridUnweighted_JESDown;1\tEvents for MET>120 and MET < 140 GeV\n",
      "  KEY: TH2D\th_MET140to6000_GridUnweighted_JESDown;1\tEvents for MET>140 and MET < 6000 GeV\n",
      "  KEY: TH2D\th_MET100to150_GridStatError;1\tEvents for MET>100 and MET < 110 GeV\n",
      "  KEY: TH2D\th_MET150to250_GridStatError;1\tEvents for MET>110 and MET < 120 GeV\n",
      "  KEY: TH2D\th_MET250to350_GridStatError;1\tEvents for MET>120 and MET < 140 GeV\n",
      "  KEY: TH2D\th_MET140to6000_GridStatError;1\tEvents for MET>140 and MET < 6000 GeV\n",
      "  KEY: TH2D\th_MET100to150_GridJESUpError;1\tEvents for MET>100 and MET < 110 GeV\n",
      "  KEY: TH2D\th_MET150to250_GridJESUpError;1\tEvents for MET>110 and MET < 120 GeV\n",
      "  KEY: TH2D\th_MET250to350_GridJESUpError;1\tEvents for MET>120 and MET < 140 GeV\n",
      "  KEY: TH2D\th_MET140to6000_GridJESUpError;1\tEvents for MET>140 and MET < 6000 GeV\n",
      "  KEY: TH2D\th_MET100to150_GridJESDownError;1\tEvents for MET>100 and MET < 110 GeV\n",
      "  KEY: TH2D\th_MET150to250_GridJESDownError;1\tEvents for MET>110 and MET < 120 GeV\n",
      "  KEY: TH2D\th_MET250to350_GridJESDownError;1\tEvents for MET>120 and MET < 140 GeV\n",
      "  KEY: TH2D\th_MET140to6000_GridJESDownError;1\tEvents for MET>140 and MET < 6000 GeV\n"
     ]
    }
   ],
   "source": [
    "file_in = ROOT.TFile('./hist_T5Wg.root', 'READ')\n",
    "file_in.ls()"
   ]
  },
  {
   "cell_type": "code",
   "execution_count": 3,
   "metadata": {
    "collapsed": false
   },
   "outputs": [
    {
     "data": {
      "image/png": "[encoded data removed]",
      "text/plain": [
       "<IPython.core.display.Image object>"
      ]
     },
     "metadata": {},
     "output_type": "display_data"
    }
   ],
   "source": [
    "c1 = ROOT.TCanvas()\n",
    "c1.Divide(2,2)\n",
    "\n",
    "h1 = file_in.Get('h_MET100to150_Grid')\n",
    "h1stat = file_in.Get('h_MET100to150_GridStatError')\n",
    "h1up = file_in.Get('h_MET100to150_GridJESUpError')\n",
    "\n",
    "c1.cd(1)\n",
    "h1.Draw(\"colz\")\n",
    "c1.cd(2)\n",
    "h1stat.Draw(\"colz\")\n",
    "c1.cd(3)\n",
    "h1up.Draw(\"colz\")\n",
    "\n",
    "c1.Draw()"
   ]
  },
  {
   "cell_type": "markdown",
   "metadata": {},
   "source": [
    "Let's get the rest of the histograms from the root file:"
   ]
  },
  {
   "cell_type": "code",
   "execution_count": 4,
   "metadata": {
    "collapsed": true
   },
   "outputs": [],
   "source": [
    "h1 = file_in.Get('h_MET100to150_Grid')\n",
    "h2 = file_in.Get('h_MET150to250_Grid')\n",
    "h3 = file_in.Get('h_MET250to350_Grid')\n",
    "\n",
    "h1stat = file_in.Get('h_MET100to150_GridStatError')\n",
    "h2stat = file_in.Get('h_MET150to250_GridStatError')\n",
    "h3stat = file_in.Get('h_MET250to350_GridStatError')\n",
    "\n",
    "h1up = file_in.Get('h_MET100to150_GridJESUpError')\n",
    "h2up = file_in.Get('h_MET150to250_GridJESUpError')\n",
    "h3up = file_in.Get('h_MET250to350_GridJESUpError')\n",
    "\n",
    "h1down = file_in.Get('h_MET100to150_GridJESDownError')\n",
    "h2down = file_in.Get('h_MET150to250_GridJESDownError')\n",
    "h3down = file_in.Get('h_MET250to350_GridJESDownError')"
   ]
  },
  {
   "cell_type": "markdown",
   "metadata": {},
   "source": [
    "Now specify a range of masses and scale factors (from where do they come?)"
   ]
  },
  {
   "cell_type": "code",
   "execution_count": 5,
   "metadata": {
    "collapsed": true
   },
   "outputs": [],
   "source": [
    "# Masses of either the gluino (T5gg) or squark (T6gg)\n",
    "\n",
    "masses = [1400,1450,1500,1550,1600,1650,1700,1750,1800,1850,1900,1950,2000,2050,2100]\n",
    "neutralino_masses = [100,200,300,400,500,600,700,800,900,1000,1100,1200,1300,1400,1500,1600,1700,1800,1900,2000]\n",
    "\n",
    "scale_factor = 0.993 * 0.986 * 0.983 * 0.983\n",
    "h1.Scale(scale_factor)\n",
    "h2.Scale(scale_factor)\n",
    "h3.Scale(scale_factor)"
   ]
  },
  {
   "cell_type": "markdown",
   "metadata": {},
   "source": [
    "Now we make the counting files with the template:\n",
    "\n",
    "```\n",
    "imax 3  number of channels\n",
    "jmax 2  number of backgrounds\n",
    "kmax *  number of nuisance parameters (sources of systematic uncertainties)\n",
    "------------\n",
    "bin         1   2   3\n",
    "observation 121 37  9\n",
    "------------\n",
    "bin                 1       1       1       2       2       2       3       3       3\n",
    "process             t5gg    qcd     ewk     t5gg    qcd     ewk     t5gg    qcd     ewk\n",
    "process             0       1       2       0       1       2       0       1       2\n",
    "rate                T5WG1   104.07  16.84   T5WG2   29.58   7.33    T5WG3   7.07    2.31\n",
    "------------\n",
    "mcStats     lnN     MCS1    -       -       MCS2    -       -       MCS3    -       -\n",
    "lumi        lnN     1.046   -       -       1.046   -       -       1.046   -       -\n",
    "phoSf       lnN     1.025   -       -       1.025   -       -       1.025   -       -\n",
    "jes         lnN     JES1    -       -       JES2    -       -       JES3    -       -\n",
    "diEmPtWt    lnN     -       1.15    -       -       1.15    -       -       1.15    -\n",
    "nJetsWt     lnN     -       1.15    -       -       1.15    -       -       1.15    -\n",
    "qcdFake     lnN     -       1.417   -       -       1.714   -       -       1.423   -\n",
    "qcdStats    lnN     -       1.036   -       -       1.068   -       -       1.088   -\n",
    "ewkFake     lnN     -       -       1.195   -       -       1.195   -       -       1.195\n",
    "ewkStats    lnN     -       -       1.036   -       -       1.054   -       -       1.097\n",
    "```\n",
    "\n",
    "which is contained in counting_T5Wg_XXX_YYY.txt"
   ]
  },
  {
   "cell_type": "code",
   "execution_count": 6,
   "metadata": {
    "collapsed": false
   },
   "outputs": [],
   "source": [
    "import re\n",
    "\n",
    "temp_file = open('./counting_T5Wg_XXX_YYY.txt', 'r')\n",
    "lines = [line for line in temp_file.readlines()]\n",
    "\n",
    "for i in range(1,len(masses)+1):\n",
    "    for j in range(1,len(neutralino_masses)+1):\n",
    "        \n",
    "        if h3.GetBinContent(i,j) != 0.0:\n",
    "         \n",
    "            uncertUp1 = math.fabs(h1up.GetBinContent(i,j))\n",
    "            uncertUp2 = math.fabs(h2up.GetBinContent(i,j))\n",
    "            uncertUp3 = math.fabs(h3up.GetBinContent(i,j))\n",
    "            uncertDown1 = math.fabs(h1down.GetBinContent(i,j))\n",
    "            uncertDown2 = math.fabs(h2down.GetBinContent(i,j))\n",
    "            uncertDown3 = math.fabs(h3down.GetBinContent(i,j))\n",
    "            \n",
    "            file_name = 'counting_T5Wg_'+str(masses[i-1])+'_'+str(neutralino_masses[j-1])+'.txt'\n",
    "            file_name = './counting_files/'+file_name\n",
    "            new_file = open(file_name, 'w')\n",
    "            \n",
    "            for line in lines:\n",
    "                if re.search('T5WG', line):\n",
    "                    l = line.replace('T5WG1', str(round(h1.GetBinContent(i,j),3)))\n",
    "                    l = l.replace('T5WG2', str(round(h2.GetBinContent(i,j),3))) \n",
    "                    l = l.replace('T5WG3', str(round(h3.GetBinContent(i,j),3)))\n",
    "                    new_file.write(l)\n",
    "                elif re.search('MCS', line):\n",
    "                    l = line.replace('MCS1', str(round(1.0 + h1stat.GetBinContent(i,j),4)))\n",
    "                    l = l.replace('MCS2', str(round(1.0 + h2stat.GetBinContent(i,j),4))) \n",
    "                    l = l.replace('MCS3', str(round(1.0 + h3stat.GetBinContent(i,j),4))) \n",
    "                    new_file.write(l)\n",
    "                elif re.search('JES', line):\n",
    "                    l = line.replace('JES1',  str(round(1.0 + max(uncertUp1, uncertDown1),4))) \n",
    "                    l = l.replace('JES2',  str(round(1.0 + max(uncertUp2, uncertDown2),4)))\n",
    "                    l = l.replace('JES3',  str(round(1.0 + max(uncertUp3, uncertDown3),4)))\n",
    "                    new_file.write(l)\n",
    "                else:\n",
    "                    new_file.write(line)\n",
    "                    \n",
    "            new_file.close()\n",
    "            "
   ]
  },
  {
   "cell_type": "markdown",
   "metadata": {
    "collapsed": true
   },
   "source": [
    "Now the datacards should be in the counting_files dir and make the shell script to run the combine commands which follow the template:\n",
    "```\n",
    "combine -M Asymptotic counting_files/counting_T5Wg_${i}_${j}.txt > limit_files/limit_t6gg_${i}_${j}.txt\n",
    "```"
   ]
  },
  {
   "cell_type": "code",
   "execution_count": 11,
   "metadata": {
    "collapsed": false
   },
   "outputs": [],
   "source": [
    "limit_file = open('makelimitfiles.sh', 'w')\n",
    "\n",
    "for i in masses:\n",
    "    for j in neutralino_masses:\n",
    "        if j < i:\n",
    "            command = 'combine -M Asymptotic counting_files/'\n",
    "            command += 'counting_T5Wg_'+str(i)+'_'+str(j)+'.txt'\n",
    "            command += ' > limit_files/'\n",
    "            command += 'limit_T5Wg_'+str(i)+'_'+str(j)+'.txt'\n",
    "            limit_file.write(command+'\\n')"
   ]
  },
  {
   "cell_type": "markdown",
   "metadata": {
    "collapsed": true
   },
   "source": [
    "The combine tool can be run stand-alone in Swan.\n",
    "\n",
    "Instructions are here:\n",
    "https://indico.cern.ch/event/577649/#b-229590-higgs-combine-tool-mi\n",
    "\n",
    "Once the tool is built and the environment is set one can run the shell script made above and create the limit files.\n",
    "\n",
    "The next step is to parse the limit files to create four histograms. A limit file (e.g. limit_t6gg_2000_1000.txt) looks like this:\n",
    "\n",
    "```\n",
    "At r = 25.550304:\tq_mu = 4.42079\tq_A  = 2.74014\tCLsb = 0.01527\tCLb  = 0.30585\tCLs  = 0.04993\n",
    "\n",
    " -- Asymptotic -- \n",
    "Observed Limit: r < 25.5503\n",
    "Expected  2.5%: r < 14.6732\n",
    "Expected 16.0%: r < 20.8888\n",
    "Expected 50.0%: r < 31.9688\n",
    "Expected 84.0%: r < 50.7008\n",
    "Expected 97.5%: r < 77.9536\n",
    "\n",
    "Done in 0.00 min (cpu), 0.04 min (real)\n",
    "```"
   ]
  },
  {
   "cell_type": "markdown",
   "metadata": {},
   "source": [
    "We want to fetch the information:\n",
    "\n",
    "\"Down\" : 16.0%\n",
    "\n",
    "\"Mid\" : 50.0%\n",
    "\n",
    "\"Up\" : 84.0%\n",
    "\n",
    "\"Observed\""
   ]
  },
  {
   "cell_type": "markdown",
   "metadata": {},
   "source": [
    "However, for some reason not all limit files are produced when running in stand-alone. For now, let's take the files already produced in CMSSW_7_1_5."
   ]
  },
  {
   "cell_type": "code",
   "execution_count": 15,
   "metadata": {
    "collapsed": false
   },
   "outputs": [
    {
     "name": "stderr",
     "output_type": "stream",
     "text": [
      "Warning in <TFile::Append>: Replacing existing TH1: up (Potential memory leak).\n",
      "Warning in <TFile::Append>: Replacing existing TH1: mid (Potential memory leak).\n",
      "Warning in <TFile::Append>: Replacing existing TH1: down (Potential memory leak).\n",
      "Warning in <TFile::Append>: Replacing existing TH1: obs (Potential memory leak).\n"
     ]
    }
   ],
   "source": [
    "import os\n",
    "import numpy as np\n",
    "import re\n",
    "\n",
    "limdir = './limit_files/'\n",
    "\n",
    "limit_files = os.listdir(limdir)\n",
    "\n",
    "# these number should come from the arrays we defined earlier rather than hard-coded\n",
    "mSquark = np.array([1375.0, 1425.0, 1475.0, 1525.0, 1575.0, 1625.0, 1675.0, 1725.0, 1775.0, 1825.0, 1875.0, 1925.0, 1975.0, 2025.0, 2075.0, 2125.0])\n",
    "mNeutralino = np.array([50.0,150.0,250.0,350.0,450.0,550.0,650.0,750.0,850.0,950.0,1050.0,1150.0,1250.0,1350.0,1450.0,1550.0,1650.0,1750.0,1850.0,1950.0,2050.0,2150.0])\n",
    "\n",
    "nbinsx = len(mSquark)-1\n",
    "nbinsy = len(mNeutralino)-1\n",
    "\n",
    "hExpLimUp = ROOT.TH2D('up', 'up', nbinsx, mSquark, nbinsy, mNeutralino)\n",
    "hExpLimMid = ROOT.TH2D('mid', 'mid', nbinsx, mSquark, nbinsy, mNeutralino)\n",
    "hExpLimDown = ROOT.TH2D('down', 'down', nbinsx, mSquark, nbinsy, mNeutralino)\n",
    "hObsLim = ROOT.TH2D('obs', 'obs', nbinsx, mSquark, nbinsy, mNeutralino)\n",
    "  \n",
    "for i in masses:\n",
    "    for j in neutralino_masses:\n",
    "        if j < i and j < 1800:\n",
    "            \n",
    "            with open(limdir+'limit_T5Wg_'+str(i)+'_'+str(j)+'.txt') as fin:\n",
    "                for line in fin:\n",
    "                    \n",
    "                    if re.search('Observed', line):\n",
    "                        l = line.split('<')\n",
    "                        v = float(l[1].strip())\n",
    "                        if v > 0:\n",
    "                            hObsLim.SetBinContent(hObsLim.GetXaxis().FindBin(i), hObsLim.GetYaxis().FindBin(j), v)\n",
    "            \n",
    "                    if re.search('16.0%', line):\n",
    "                        l = line.split('<')\n",
    "                        v = float(l[1].strip())\n",
    "                        if v > 0:\n",
    "                            hExpLimDown.SetBinContent(hExpLimDown.GetXaxis().FindBin(i), hExpLimDown.GetYaxis().FindBin(j), v)\n",
    "            \n",
    "                    if re.search('50.0%', line):\n",
    "                        l = line.split('<')\n",
    "                        v = float(l[1].strip())\n",
    "                        if v > 0:\n",
    "                            hExpLimMid.SetBinContent(hExpLimMid.GetXaxis().FindBin(i), hExpLimMid.GetYaxis().FindBin(j), v)\n",
    "            \n",
    "                    if re.search('84.0%', line):\n",
    "                        l = line.split('<')\n",
    "                        v = float(l[1].strip())\n",
    "                        if v > 0:\n",
    "                            hExpLimUp.SetBinContent(hExpLimUp.GetXaxis().FindBin(i), hExpLimUp.GetYaxis().FindBin(j), v)\n",
    "\n",
    "    \n",
    "hObsLim.GetZaxis().SetRangeUser(0.0, 40.0)\n",
    "hExpLimDown.GetZaxis().SetRangeUser(0.0, 40.0)\n",
    "hExpLimMid.GetZaxis().SetRangeUser(0.0, 40.0)\n",
    "hExpLimUp.GetZaxis().SetRangeUser(0.0, 40.0)"
   ]
  },
  {
   "cell_type": "markdown",
   "metadata": {},
   "source": [
    "Let's make a new canvas and see what the histograms look like:"
   ]
  },
  {
   "cell_type": "code",
   "execution_count": 16,
   "metadata": {
    "collapsed": false
   },
   "outputs": [
    {
     "data": {
      "image/png": "[encoded data removed]",
      "text/plain": [
       "<IPython.core.display.Image object>"
      ]
     },
     "metadata": {},
     "output_type": "display_data"
    }
   ],
   "source": [
    "c2 = ROOT.TCanvas()\n",
    "c2.Divide(2,2)\n",
    "\n",
    "c2.cd(1)\n",
    "hObsLim.Draw()\n",
    "\n",
    "c2.cd(2)\n",
    "hExpLimDown.Draw()\n",
    "\n",
    "c2.cd(3)\n",
    "hExpLimMid.Draw()\n",
    "\n",
    "c2.cd(4)\n",
    "hExpLimUp.Draw()\n",
    "\n",
    "c2.Draw()"
   ]
  },
  {
   "cell_type": "markdown",
   "metadata": {},
   "source": [
    "The following all comes from https://github.com/asantra/DiPhotonClassicCodeRepository/blob/master/LimitSetting/DrawLimitCanvas.C"
   ]
  },
  {
   "cell_type": "code",
   "execution_count": 24,
   "metadata": {
    "collapsed": false
   },
   "outputs": [],
   "source": [
    "def MakeLimitGraph(h):\n",
    "    \n",
    "    g = ROOT.TGraph()\n",
    "    n = 0\n",
    "    m = 19\n",
    "\n",
    "    for i in range(1, m+1):\n",
    "        \n",
    "        x = 0.0\n",
    "        y = h.GetYaxis().GetBinCenter(i)\n",
    "        \n",
    "        for j in range(1, h.GetNbinsX() + 1):\n",
    "            \n",
    "            xLow = h.GetXaxis().GetBinCenter(j)\n",
    "            xHigh = h.GetXaxis().GetBinCenter(1+j)\n",
    "            zLow = h.GetBinContent(j, i)\n",
    "            zHigh = h.GetBinContent(1 + j, i)\n",
    "\n",
    "            if zLow < 1.0 and zHigh > 1.0: \n",
    "                x = xLow + (xHigh - xLow) * (1.0 - zLow) / (zHigh - zLow)\n",
    "\n",
    "                g.SetPoint(n, x, y)\n",
    "                n += 1\n",
    "                break\n",
    "        \n",
    "    return g\n",
    "    \n",
    "\n",
    "def ScaleLimit(h, s, scaleByXSec, sigma):\n",
    "    \n",
    "    h_new = h.Clone(s)\n",
    "    \n",
    "    for i in range(1, h_new.GetNbinsX()+1):\n",
    "        for j in range(1, h_new.GetNbinsY()+1):\n",
    "            \n",
    "            m = h_new.GetXaxis().GetBinCenter(i)\n",
    "            r = h_new.GetBinContent(i, j)\n",
    "            foundM = False\n",
    "            \n",
    "            if m == 1487.5:\n",
    "                m = 1500.0\n",
    "            \n",
    "            with open('./SusyCrossSections13TevGluGlu.txt') as f_xSec:\n",
    "                for line in f_xSec:\n",
    "                    \n",
    "                    l = line.split()\n",
    "                    mSusy = float(l[0])\n",
    "                    xSec = float(l[1])\n",
    "                    unc = float(l[2])\n",
    "                    \n",
    "                    if mSusy == m: # careful!\n",
    "                        if scaleByXSec:\n",
    "                            r *= xSec\n",
    "                        r /= 1.0 + sigma * unc / 100.0\n",
    "                        foundM = True\n",
    "                        break\n",
    "            if not foundM:\n",
    "                r = -1.0\n",
    "                \n",
    "            h_new.SetBinContent(i, j, r)\n",
    "    \n",
    "    return h_new"
   ]
  },
  {
   "cell_type": "code",
   "execution_count": 25,
   "metadata": {
    "collapsed": false,
    "scrolled": true
   },
   "outputs": [
    {
     "ename": "IOError",
     "evalue": "[Errno 2] No such file or directory: './SusyCrossSections13TevGluGlu.txt'",
     "output_type": "error",
     "traceback": [
      "\u001b[0;31m\u001b[0m",
      "\u001b[0;31mIOError\u001b[0mTraceback (most recent call last)",
      "\u001b[0;32m<ipython-input-25-acb9938e7cad>\u001b[0m in \u001b[0;36m<module>\u001b[0;34m()\u001b[0m\n\u001b[0;32m----> 1\u001b[0;31m \u001b[0mh_xSecLimit\u001b[0m \u001b[0;34m=\u001b[0m \u001b[0mScaleLimit\u001b[0m\u001b[0;34m(\u001b[0m\u001b[0mhObsLim\u001b[0m\u001b[0;34m,\u001b[0m \u001b[0;34m'obs'\u001b[0m\u001b[0;34m,\u001b[0m \u001b[0mTrue\u001b[0m\u001b[0;34m,\u001b[0m \u001b[0;36m0.0\u001b[0m\u001b[0;34m)\u001b[0m\u001b[0;34m\u001b[0m\u001b[0m\n\u001b[0m\u001b[1;32m      2\u001b[0m \u001b[0mh_observedLimitLow\u001b[0m \u001b[0;34m=\u001b[0m \u001b[0mScaleLimit\u001b[0m\u001b[0;34m(\u001b[0m\u001b[0mhObsLim\u001b[0m\u001b[0;34m,\u001b[0m \u001b[0;34m'obs'\u001b[0m\u001b[0;34m,\u001b[0m \u001b[0mFalse\u001b[0m\u001b[0;34m,\u001b[0m \u001b[0;34m-\u001b[0m\u001b[0;36m1.0\u001b[0m\u001b[0;34m)\u001b[0m\u001b[0;34m\u001b[0m\u001b[0m\n\u001b[1;32m      3\u001b[0m \u001b[0mh_observedLimitHigh\u001b[0m \u001b[0;34m=\u001b[0m \u001b[0mScaleLimit\u001b[0m\u001b[0;34m(\u001b[0m\u001b[0mhObsLim\u001b[0m\u001b[0;34m,\u001b[0m \u001b[0;34m'obs'\u001b[0m \u001b[0;34m,\u001b[0m \u001b[0mFalse\u001b[0m\u001b[0;34m,\u001b[0m \u001b[0;36m1.0\u001b[0m\u001b[0;34m)\u001b[0m\u001b[0;34m\u001b[0m\u001b[0m\n\u001b[1;32m      4\u001b[0m \u001b[0;34m\u001b[0m\u001b[0m\n\u001b[1;32m      5\u001b[0m \u001b[0mg_expectedLimit\u001b[0m \u001b[0;34m=\u001b[0m \u001b[0mMakeLimitGraph\u001b[0m\u001b[0;34m(\u001b[0m\u001b[0mhExpLimMid\u001b[0m\u001b[0;34m)\u001b[0m\u001b[0;34m\u001b[0m\u001b[0m\n",
      "\u001b[0;32m<ipython-input-24-3aaf76673319>\u001b[0m in \u001b[0;36mScaleLimit\u001b[0;34m(h, s, scaleByXSec, sigma)\u001b[0m\n\u001b[1;32m     41\u001b[0m                 \u001b[0mm\u001b[0m \u001b[0;34m=\u001b[0m \u001b[0;36m1500.0\u001b[0m\u001b[0;34m\u001b[0m\u001b[0m\n\u001b[1;32m     42\u001b[0m \u001b[0;34m\u001b[0m\u001b[0m\n\u001b[0;32m---> 43\u001b[0;31m             \u001b[0;32mwith\u001b[0m \u001b[0mopen\u001b[0m\u001b[0;34m(\u001b[0m\u001b[0;34m'./SusyCrossSections13TevGluGlu.txt'\u001b[0m\u001b[0;34m)\u001b[0m \u001b[0;32mas\u001b[0m \u001b[0mf_xSec\u001b[0m\u001b[0;34m:\u001b[0m\u001b[0;34m\u001b[0m\u001b[0m\n\u001b[0m\u001b[1;32m     44\u001b[0m                 \u001b[0;32mfor\u001b[0m \u001b[0mline\u001b[0m \u001b[0;32min\u001b[0m \u001b[0mf_xSec\u001b[0m\u001b[0;34m:\u001b[0m\u001b[0;34m\u001b[0m\u001b[0m\n\u001b[1;32m     45\u001b[0m \u001b[0;34m\u001b[0m\u001b[0m\n",
      "\u001b[0;31mIOError\u001b[0m: [Errno 2] No such file or directory: './SusyCrossSections13TevGluGlu.txt'"
     ]
    }
   ],
   "source": [
    "h_xSecLimit = ScaleLimit(hObsLim, 'obs', True, 0.0)\n",
    "h_observedLimitLow = ScaleLimit(hObsLim, 'obs', False, -1.0)\n",
    "h_observedLimitHigh = ScaleLimit(hObsLim, 'obs' , False, 1.0)\n",
    "    \n",
    "g_expectedLimit = MakeLimitGraph(hExpLimMid)\n",
    "g_expectedLimitLow = MakeLimitGraph(hExpLimDown)\n",
    "g_expectedLimitHigh = MakeLimitGraph(hExpLimUp)\n",
    "\n",
    "g_observedLimit = MakeLimitGraph(hObsLim)\n",
    "g_observedLimitLow = MakeLimitGraph(h_observedLimitLow)\n",
    "g_observedLimitHigh = MakeLimitGraph(h_observedLimitHigh)\n",
    "\n",
    "ROOT.gStyle.SetPadRightMargin(0.16)\n",
    "c_limit = ROOT.TCanvas('c_limit', '', 580, 620)\n",
    "c_limit.SetLogz()\n",
    "    \n",
    "red = np.array([0.5, 0.5, 1.0, 1.0, 1.0])\n",
    "green = np.array([0.5, 1.0, 1.0, 0.6, 0.5])\n",
    "blue = np.array([1.0, 1.0, 0.5, 0.4, 0.5])\n",
    "length = np.array([0.0, 0.34, 0.61, 0.84, 1.0])\n",
    "                 \n",
    "table = ROOT.TColor.CreateGradientColorTable(5, length, red, green, blue, 255)\n",
    "limitPalette = [table+i for i in range(1,255+1)]"
   ]
  },
  {
   "cell_type": "code",
   "execution_count": null,
   "metadata": {
    "collapsed": false
   },
   "outputs": [],
   "source": [
    "h_xSecLimit.GetXaxis().SetTitle('M_{#tilde{g}} (GeV)')\n",
    "h_xSecLimit.GetYaxis().SetTitle('M_{#tilde{#chi}_{1}^{0}} (GeV)  ')\n",
    "h_xSecLimit.GetZaxis().SetLabelOffset(-0.003)\n",
    "h_xSecLimit.GetZaxis().SetLabelSize(0.03)\n",
    "h_xSecLimit.GetZaxis().SetTitleOffset(0.9)\n",
    "h_xSecLimit.GetZaxis().SetLabelSize(0.04)\n",
    "h_xSecLimit.GetZaxis().SetTitle('95% CL limit on #sigma (pb)    ')\n",
    "h_xSecLimit.SetContour(255)\n",
    "h_xSecLimit.GetZaxis().SetRangeUser(0.004, 0.007)\n",
    "h_xSecLimit.SetTitle('')\n",
    "h_xSecLimit.Draw('colz')\n",
    "\n",
    "g_expectedLimit.SetLineColor(ROOT.kRed+1)\n",
    "g_expectedLimit.SetLineWidth(2)\n",
    "g_expectedLimit.Draw('C same')\n",
    "    \n",
    "g_expectedLimitLow.SetLineColor(ROOT.kRed+1)\n",
    "g_expectedLimitLow.SetLineStyle(2)\n",
    "g_expectedLimitLow.SetLineWidth(2)\n",
    "g_expectedLimitLow.Draw('C same')\n",
    "    \n",
    "g_expectedLimitHigh.SetLineColor(ROOT.kRed+1)\n",
    "g_expectedLimitHigh.SetLineStyle(2)\n",
    "g_expectedLimitHigh.SetLineWidth(2)\n",
    "g_expectedLimitHigh.Draw('C same')\n",
    "    \n",
    "g_observedLimit.SetLineWidth(2)\n",
    "g_observedLimit.Draw('C same')\n",
    "    \n",
    "g_observedLimitLow.SetLineStyle(2)\n",
    "g_observedLimitLow.SetLineWidth(2)\n",
    "g_observedLimitLow.Draw('C same')\n",
    "    \n",
    "g_observedLimitHigh.SetLineStyle(2)\n",
    "g_observedLimitHigh.SetLineWidth(2)\n",
    "g_observedLimitHigh.Draw('C same')\n",
    "\n",
    "le_limit = ROOT.TLegend(0.19, 0.72, 0.48, 0.84)\n",
    "le_limit.SetFillStyle(0)\n",
    "le_limit.SetLineColor(ROOT.kWhite)\n",
    "le_limit.SetTextSize(0.0325)\n",
    "le_limit.SetTextFont(42)\n",
    "le_limit.AddEntry(g_observedLimit, 'Obs. limit', 'l')\n",
    "le_limit.AddEntry(g_observedLimitLow, 'Obs. limit #pm 1 #sigma_{th}','l')\n",
    "le_limit.AddEntry(g_expectedLimit, 'Exp. limit', 'l')\n",
    "le_limit.AddEntry(g_expectedLimitLow, 'Exp. limit #pm 1 #sigma_{ex}','l')\n",
    "le_limit.Draw('same');\n",
    "    \n",
    "la_limit = ROOT.TLatex()\n",
    "la_limit.SetNDC()\n",
    "    \n",
    "la_limit.SetTextAlign(13)\n",
    "la_limit.SetTextSize(0.044)\n",
    "la_limit.SetTextFont(42)\n",
    "la_limit.DrawLatex(0.6, 0.998, '2.3 fb^{-1} (13 TeV)')\n",
    "    \n",
    "la_limit.SetTextAlign(11)\n",
    "la_limit.SetTextSize(0.044)\n",
    "la_limit.SetTextFont(62)\n",
    "la_limit.DrawLatex(0.2, 0.96, 'CMS')\n",
    "    \n",
    "la_limit.SetTextAlign(11)\n",
    "la_limit.SetTextSize(0.044)\n",
    "la_limit.SetTextFont(42)\n",
    "la_limit.DrawLatex(0.3, 0.96, 'Preliminary')\n",
    "    \n",
    "la_limit.SetTextSize(0.04)\n",
    "la_limit.SetTextFont(42)\n",
    "la_limit.DrawLatex(0.2, 0.9, 'pp #rightarrow #tilde{g}#tilde{g}, #tilde{g} #rightarrow qq#tilde{#chi}_{1}^{0}, #tilde{#chi}_{1}^{0} #rightarrow #gamma#tilde{G}')\n",
    "    \n",
    "la_limit.DrawLatex(0.2, 0.85, 'NLO + NLL exclusion')\n",
    "\n",
    "c_limit.Draw()"
   ]
  },
  {
   "cell_type": "markdown",
   "metadata": {},
   "source": [
    "Hmm, not bad. It's the same as what comes out of the github version. Don't know if it makes sense but will have to check."
   ]
  },
  {
   "cell_type": "code",
   "execution_count": null,
   "metadata": {
    "collapsed": true
   },
   "outputs": [],
   "source": []
  }
 ],
 "metadata": {
  "kernelspec": {
   "display_name": "Python 2",
   "language": "python",
   "name": "python2"
  },
  "language_info": {
   "codemirror_mode": {
    "name": "ipython",
    "version": 2
   },
   "file_extension": ".py",
   "mimetype": "text/x-python",
   "name": "python",
   "nbconvert_exporter": "python",
   "pygments_lexer": "ipython2",
   "version": "2.7.10"
  }
 },
 "nbformat": 4,
 "nbformat_minor": 1
}
